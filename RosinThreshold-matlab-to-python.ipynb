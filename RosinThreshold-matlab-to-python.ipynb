{
 "cells": [
  {
   "cell_type": "code",
   "execution_count": 1,
   "id": "9242e11b",
   "metadata": {},
   "outputs": [],
   "source": [
    "import numpy as np"
   ]
  },
  {
   "cell_type": "code",
   "execution_count": 2,
   "id": "a1259eb2",
   "metadata": {},
   "outputs": [],
   "source": [
    "def rosin_threshold(hist_img):\n",
    "    # Trouver le seuil optimal\n",
    "    peak_max = np.max(hist_img)\n",
    "    pos_peak = np.argmax(hist_img)\n",
    "    p1 = np.array([pos_peak, peak_max])\n",
    "    # Trouver le dernier bin non vide\n",
    "    ind_nonZero = np.where(hist_img > 0)[0]\n",
    "    last_zeroBin = ind_nonZero[-1]\n",
    "    p2 = np.array([last_zeroBin, hist_img[last_zeroBin]])\n",
    "    best_idx = -1\n",
    "    max_dist = -1\n",
    "    for x0 in range(pos_peak, last_zeroBin + 1):\n",
    "        y0 = hist_img[x0]\n",
    "        a = p1 - p2\n",
    "        b = np.array([x0, y0]) - p2\n",
    "        cross_ab = np.cross(a, b)\n",
    "        d = np.linalg.norm(cross_ab) / np.linalg.norm(a)\n",
    "        if d > max_dist:\n",
    "            best_idx = x0\n",
    "            max_dist = d\n",
    "    return best_idx"
   ]
  },
  {
   "cell_type": "code",
   "execution_count": null,
   "id": "15a39684",
   "metadata": {},
   "outputs": [],
   "source": []
  }
 ],
 "metadata": {
  "kernelspec": {
   "display_name": "Python 3 (ipykernel)",
   "language": "python",
   "name": "python3"
  },
  "language_info": {
   "codemirror_mode": {
    "name": "ipython",
    "version": 3
   },
   "file_extension": ".py",
   "mimetype": "text/x-python",
   "name": "python",
   "nbconvert_exporter": "python",
   "pygments_lexer": "ipython3",
   "version": "3.10.9"
  }
 },
 "nbformat": 4,
 "nbformat_minor": 5
}
