{
 "cells": [
  {
   "cell_type": "code",
   "execution_count": 1,
   "id": "16c7fd28",
   "metadata": {},
   "outputs": [],
   "source": [
    "import numpy as np\n",
    "from scipy.ndimage import gaussian_filter1d\n",
    "\n",
    "\n",
    "\n"
   ]
  },
  {
   "cell_type": "code",
   "execution_count": 2,
   "id": "1ae546e5",
   "metadata": {},
   "outputs": [],
   "source": [
    "def double_rosin_thr(original_image, precision=0.01, gaussian_sigma=0.0):\n",
    "    # Validate Arguments\n",
    "    assert not (len(original_image.shape) != 2), \"Error: Image must be grayscale.\"\n",
    "    assert not (precision <= 0), \"Error: Precision must be a positive value.\"\n",
    "    assert not (gaussian_sigma < 0), \"Error: Gaussian sigma must be a non-negative value.\"\n",
    "    \n",
    "    bins_number = round(1 / precision)\n",
    "    \n",
    "    # Preprocessing\n",
    "    if np.max(original_image) > 1.001:\n",
    "        factor = 255\n",
    "        original_image = original_image / 255.0\n",
    "    else:\n",
    "        factor = 1\n",
    "\n",
    "    # Histogram\n",
    "    histogram = np.histogram(original_image.flatten(), bins=bins_number, range=(0, 1))[0]\n",
    "    \n",
    "    # Gaussian smoothing\n",
    "    if gaussian_sigma > 0:\n",
    "        histogram = gaussian_filter1d(histogram, gaussian_sigma)\n",
    "\n",
    "    # Finding the peak\n",
    "    hist_peak = np.argmax(histogram)\n",
    "\n",
    "    # Finding the end of histogram\n",
    "    hist_end = len(histogram) - 1\n",
    "    while histogram[hist_end] == 0 and histogram[hist_end - 1] == 0 and hist_end > 1:\n",
    "        hist_end -= 1\n",
    "    if hist_end == 1:\n",
    "        raise ValueError(\"Error: The histogram was empty or the image was 0-valued.\")\n",
    "\n",
    "    # Finding the high threshold\n",
    "    high_thr = hist_peak + get_max_dist(histogram[hist_peak:hist_end]) - 1\n",
    "\n",
    "    # Finding the low threshold\n",
    "    low_thr = hist_peak + get_max_dist(histogram[hist_peak:high_thr]) - 1\n",
    "\n",
    "    # Output formatting\n",
    "    perc = np.array([low_thr, high_thr]) / bins_number\n",
    "    double_thr = perc * factor\n",
    "\n",
    "    return double_thr\n"
   ]
  },
  {
   "cell_type": "code",
   "execution_count": 3,
   "id": "2f02b654",
   "metadata": {},
   "outputs": [],
   "source": [
    "def get_max_dist(func_values):\n",
    "    x = 0\n",
    "    y = len(func_values) - 1\n",
    "\n",
    "    hx = func_values[x]\n",
    "    hy = func_values[y]\n",
    "\n",
    "    # Defining the line\n",
    "    # (b) slope\n",
    "    a = (hy - hx) / (y - x)\n",
    "    # (a) abscises cutting point\n",
    "    b = hx - (x * a)\n",
    "\n",
    "    # Computing the best thresholds\n",
    "    distances = np.zeros(len(func_values))\n",
    "    max_distance = -1\n",
    "    furthest_pos = 0\n",
    "    for z in range(x, y + 1):\n",
    "        # z is the candidate threshold\n",
    "        hz = func_values[z]  # z's occurrence\n",
    "        dist = abs(a * z - hz + b) / np.sqrt(a ** 2 + 1)\n",
    "        distances[z] = dist\n",
    "        if dist > max_distance:\n",
    "            max_distance = dist\n",
    "            furthest_pos = z\n",
    "\n",
    "    return furthest_pos"
   ]
  },
  {
   "cell_type": "code",
   "execution_count": null,
   "id": "70b54903",
   "metadata": {},
   "outputs": [],
   "source": []
  }
 ],
 "metadata": {
  "kernelspec": {
   "display_name": "Python 3 (ipykernel)",
   "language": "python",
   "name": "python3"
  },
  "language_info": {
   "codemirror_mode": {
    "name": "ipython",
    "version": 3
   },
   "file_extension": ".py",
   "mimetype": "text/x-python",
   "name": "python",
   "nbconvert_exporter": "python",
   "pygments_lexer": "ipython3",
   "version": "3.10.9"
  }
 },
 "nbformat": 4,
 "nbformat_minor": 5
}
