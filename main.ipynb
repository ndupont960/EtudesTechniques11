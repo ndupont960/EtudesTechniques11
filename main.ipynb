{
 "cells": [
  {
   "cell_type": "code",
   "execution_count": null,
   "metadata": {},
   "outputs": [],
   "source": [
    "import cv2\n",
    "import os\n",
    "import matplotlib.pyplot as plt\n",
    "import numpy as np\n",
    "\n",
    "from multi_scale_edge_detection.MultiScaleContourDetector import multi_scale_contour_detection_with_inhibition, multi_scale_contour_detection_without_inhibition\n"
   ]
  },
  {
   "cell_type": "code",
   "execution_count": null,
   "metadata": {},
   "outputs": [],
   "source": [
    "\n",
    "# Read the image\n",
    "image = cv2.imread('database/images/rino.pgm', cv2.IMREAD_UNCHANGED)\n",
    "\n",
    "if image is None:\n",
    "    print(\"Error: Unable to read the image.\")\n",
    "else:\n",
    "    # Convert to float\n",
    "    image = image.astype(float)\n",
    "\n",
    "    # Normalize the image values to be between 0 and 1\n",
    "    image_normalized = (image - image.min()) / (image.max() - image.min())\n",
    "\n",
    "    # Display the normalized image\n",
    "    # plt.imshow(image_normalized, cmap='gray')\n",
    "    # plt.title('Normalized Image')\n",
    "    # plt.show()\n",
    "\n"
   ]
  },
  {
   "cell_type": "code",
   "execution_count": null,
   "metadata": {},
   "outputs": [],
   "source": [
    "\n",
    "# # Read the image\n",
    "# image = cv2.imread('database/images/aerial/airfield.pgm', cv2.IMREAD_UNCHANGED)\n",
    "\n",
    "# if image is None:\n",
    "#     print(\"Error: Unable to read the image.\")\n",
    "# else:\n",
    "#     # Convert to float\n",
    "#     image = image.astype(float)\n",
    "\n",
    "#     # Normalize the image values to be between 0 and 1\n",
    "#     image_normalized = (image - image.min()) / (image.max() - image.min())\n",
    "\n",
    "#     # Calculate the closest even pair of numbers\n",
    "#     height, width = image.shape[:2]\n",
    "#     new_height = 2 * int(np.ceil(height / 2))\n",
    "#     new_width = 2 * int(np.ceil(width / 2))\n",
    "\n",
    "#     # Resize the image\n",
    "#     resized_image = cv2.resize(image_normalized, (new_width, new_height))\n",
    "\n",
    "#     # Display the resized image\n",
    "#     plt.imshow(resized_image, cmap='gray')\n",
    "#     plt.title('Resized Image (Closest Pair of Even Numbers)')\n",
    "#     plt.show()\n",
    "\n",
    "#     # Print the new dimensions\n",
    "#     print(\"Original dimensions:\", image.shape[:2])\n",
    "#     print(\"Resized dimensions:\", resized_image.shape[:2])\n"
   ]
  },
  {
   "cell_type": "code",
   "execution_count": null,
   "metadata": {},
   "outputs": [],
   "source": [
    "## adding noise to the image \n",
    "\n",
    "noise = np.random.normal(0, 1, image_normalized.shape)\n",
    "image_noisy = (1-0.05)*image_normalized + 0.05*noise\n",
    "\n",
    "# plt.imshow(image_noisy, cmap='gray')\n",
    "# plt.title('Magnitude du Gradient M_sigma')\n",
    "# plt.show()"
   ]
  },
  {
   "cell_type": "code",
   "execution_count": null,
   "metadata": {},
   "outputs": [],
   "source": [
    "# multi_scale_contour_detection_with_inhibition(image_normalized, N=4, sigma=0.8, alpha=0.001)"
   ]
  },
  {
   "cell_type": "code",
   "execution_count": null,
   "metadata": {},
   "outputs": [],
   "source": [
    "# multi_scale_contour_detection_without_inhibition(image_normalized, N=4, sigma=1, alpha=0.01)"
   ]
  },
  {
   "cell_type": "markdown",
   "metadata": {},
   "source": [
    "# Boucle avec inhibition"
   ]
  },
  {
   "cell_type": "code",
   "execution_count": null,
   "metadata": {},
   "outputs": [],
   "source": [
    "def database_loop_with_inhibition(input_path, output_path):\n",
    "\n",
    "    # Read the image\n",
    "    image = cv2.imread(input_path, cv2.IMREAD_UNCHANGED)\n",
    "\n",
    "    if image is None:\n",
    "        print(\"Error: Unable to read the image.\")\n",
    "    else:\n",
    "        # Convert to float\n",
    "        image = image.astype(float)\n",
    "\n",
    "        # Normalize the image values to be between 0 and 1\n",
    "        image_normalized = (image - image.min()) / (image.max() - image.min())\n",
    "\n",
    "    \n",
    "    # adding noise to the image \n",
    "    noise = np.random.normal(0, 1, image_normalized.shape)\n",
    "    image_noisy = (1-0.05)*image_normalized + 0.05*noise\n",
    "\n",
    "    result_contours = multi_scale_contour_detection_with_inhibition(image_normalized, N=4, sigma=1, alpha=0.001)\n",
    "    plt.imshow(result_contours, cmap='gray')\n",
    "    plt.savefig(output_path)\n",
    "\n",
    "    \n",
    "    "
   ]
  },
  {
   "cell_type": "code",
   "execution_count": null,
   "metadata": {},
   "outputs": [],
   "source": [
    "# Chemin du dossier contenant les images PGM\n",
    "input_folder = 'database'\n",
    "\n",
    "# Chemin du dossier où vous souhaitez stocker les images PNG converties\n",
    "output_folder = 'output_images_with_inhibition'\n",
    "\n",
    "# Créer le dossier de sortie s'il n'existe pas déjà\n",
    "if not os.path.exists(output_folder):\n",
    "    os.makedirs(output_folder)\n",
    "\n",
    "# Parcourir récursivement tous les sous-dossiers et fichiers du dossier d'entrée\n",
    "for root, dirs, files in os.walk(input_folder):\n",
    "    for filename in files:\n",
    "        # Vérifier si le fichier est un fichier PGM\n",
    "        if filename.endswith('.pgm'):\n",
    "            # Chemin complet du fichier d'entrée\n",
    "            input_path = os.path.join(root, filename)\n",
    "            \n",
    "            # Chemin relatif du dossier d'entrée par rapport au dossier \"database\"\n",
    "            relative_folder = os.path.relpath(root, input_folder)\n",
    "            \n",
    "            # Créer le dossier de sortie correspondant s'il n'existe pas déjà\n",
    "            output_subfolder = os.path.join(output_folder, relative_folder)\n",
    "            if not os.path.exists(output_subfolder):\n",
    "                os.makedirs(output_subfolder)\n",
    "            \n",
    "            # Nom du fichier de sortie avec extension PNG\n",
    "            output_filename = os.path.splitext(filename)[0] + '.png'\n",
    "            \n",
    "            # Chemin complet du fichier de sortie\n",
    "            output_path = os.path.join(output_subfolder, output_filename)\n",
    "            \n",
    "            # Convertir PGM en PNG\n",
    "            database_loop_with_inhibition(input_path, output_path)\n",
    "\n",
    "print(\"Conversion terminée.\")\n"
   ]
  },
  {
   "cell_type": "markdown",
   "metadata": {},
   "source": [
    "# Boucle sans inhibition"
   ]
  },
  {
   "cell_type": "code",
   "execution_count": null,
   "metadata": {},
   "outputs": [],
   "source": [
    "def database_loop_without_inhibition(input_path, output_path):\n",
    "\n",
    "    # Read the image\n",
    "    image = cv2.imread(input_path, cv2.IMREAD_UNCHANGED)\n",
    "\n",
    "    if image is None:\n",
    "        print(\"Error: Unable to read the image.\")\n",
    "    else:\n",
    "        # Convert to float\n",
    "        image = image.astype(float)\n",
    "\n",
    "        # Normalize the image values to be between 0 and 1\n",
    "        image_normalized = (image - image.min()) / (image.max() - image.min())\n",
    "\n",
    "    \n",
    "    # adding noise to the image \n",
    "    noise = np.random.normal(0, 1, image_normalized.shape)\n",
    "    image_noisy = (1-0.05)*image_normalized + 0.05*noise\n",
    "\n",
    "    result_contours = multi_scale_contour_detection_without_inhibition(image_normalized, N=4, sigma=1, alpha=0.001)\n",
    "    plt.imshow(result_contours, cmap='gray')\n",
    "    plt.savefig(output_path)\n"
   ]
  },
  {
   "cell_type": "code",
   "execution_count": null,
   "metadata": {},
   "outputs": [],
   "source": [
    "# Chemin du dossier contenant les images PGM\n",
    "input_folder = 'database'\n",
    "\n",
    "# Chemin du dossier où vous souhaitez stocker les images PNG converties\n",
    "output_folder = 'output_images_without_inhibition'\n",
    "\n",
    "# Créer le dossier de sortie s'il n'existe pas déjà\n",
    "if not os.path.exists(output_folder):\n",
    "    os.makedirs(output_folder)\n",
    "\n",
    "# Parcourir récursivement tous les sous-dossiers et fichiers du dossier d'entrée\n",
    "for root, dirs, files in os.walk(input_folder):\n",
    "    for filename in files:\n",
    "        # Vérifier si le fichier est un fichier PGM\n",
    "        if filename.endswith('.pgm'):\n",
    "            # Chemin complet du fichier d'entrée\n",
    "            input_path = os.path.join(root, filename)\n",
    "            \n",
    "            # Chemin relatif du dossier d'entrée par rapport au dossier \"database\"\n",
    "            relative_folder = os.path.relpath(root, input_folder)\n",
    "            \n",
    "            # Créer le dossier de sortie correspondant s'il n'existe pas déjà\n",
    "            output_subfolder = os.path.join(output_folder, relative_folder)\n",
    "            if not os.path.exists(output_subfolder):\n",
    "                os.makedirs(output_subfolder)\n",
    "            \n",
    "            # Nom du fichier de sortie avec extension PNG\n",
    "            output_filename = os.path.splitext(filename)[0] + '.png'\n",
    "            \n",
    "            # Chemin complet du fichier de sortie\n",
    "            output_path = os.path.join(output_subfolder, output_filename)\n",
    "            \n",
    "            # Convertir PGM en PNG\n",
    "            database_loop_without_inhibition(input_path, output_path)\n",
    "\n",
    "print(\"Conversion terminée.\")"
   ]
  }
 ],
 "metadata": {
  "kernelspec": {
   "display_name": "Python 3",
   "language": "python",
   "name": "python3"
  },
  "language_info": {
   "codemirror_mode": {
    "name": "ipython",
    "version": 3
   },
   "file_extension": ".py",
   "mimetype": "text/x-python",
   "name": "python",
   "nbconvert_exporter": "python",
   "pygments_lexer": "ipython3",
   "version": "3.11.3"
  }
 },
 "nbformat": 4,
 "nbformat_minor": 2
}
